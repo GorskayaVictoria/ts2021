{
  "nbformat": 4,
  "nbformat_minor": 0,
  "metadata": {
    "colab": {
      "name": "TS_4.ipynb",
      "provenance": []
    },
    "kernelspec": {
      "name": "python3",
      "display_name": "Python 3"
    },
    "language_info": {
      "name": "python"
    }
  },
  "cells": [
    {
      "cell_type": "markdown",
      "source": [
        "# **ГОРСКАЯ ВИКТОРИЯ 11-801**"
      ],
      "metadata": {
        "id": "dp1BvkNFJ9-M"
      }
    },
    {
      "cell_type": "code",
      "execution_count": 1,
      "metadata": {
        "id": "XXNmIjgpuhlP"
      },
      "outputs": [],
      "source": [
        "import pandas as pd\n",
        "import datetime"
      ]
    },
    {
      "cell_type": "code",
      "source": [
        "month_my = datetime.date(2020, 7, 1)"
      ],
      "metadata": {
        "id": "v7C59Ilz0HXj"
      },
      "execution_count": 32,
      "outputs": []
    },
    {
      "cell_type": "code",
      "source": [
        "data = pd.read_csv('/content/sample_data/ddd.csv',  names=['time'],  parse_dates=['time'])"
      ],
      "metadata": {
        "id": "S75x4y2RunFg"
      },
      "execution_count": 122,
      "outputs": []
    },
    {
      "cell_type": "code",
      "source": [
        "data['date'] = data['time'].dt.date\n",
        "data['hour'] = data['time'].dt.hour\n",
        "data['week'] = data['time'].dt.week\n",
        "data['month'] = data['time'].dt.month\n",
        "data['year'] = data['time'].dt.year\n",
        "data['day'] = data['time'].dt.day\n",
        "data['weekday'] = data['time'].dt.weekday"
      ],
      "metadata": {
        "colab": {
          "base_uri": "https://localhost:8080/"
        },
        "id": "fgtBjFtzxmE6",
        "outputId": "ee338a43-2768-4c05-8bd9-31edd825b378"
      },
      "execution_count": 123,
      "outputs": [
        {
          "output_type": "stream",
          "name": "stderr",
          "text": [
            "/usr/local/lib/python3.7/dist-packages/ipykernel_launcher.py:3: FutureWarning: Series.dt.weekofyear and Series.dt.week have been deprecated.  Please use Series.dt.isocalendar().week instead.\n",
            "  This is separate from the ipykernel package so we can avoid doing imports until\n"
          ]
        }
      ]
    },
    {
      "cell_type": "code",
      "source": [
        "def avg(data):\n",
        "    return sum(data) / len(data)\n",
        "\n",
        "def disp(data, avg_):\n",
        "    return sum([x * x for x in data]) / len(data) - avg_ * avg_"
      ],
      "metadata": {
        "id": "sU_S-TBTx2VE"
      },
      "execution_count": 66,
      "outputs": []
    },
    {
      "cell_type": "code",
      "source": [
        "data_my = data[(data.month == month_my.month)& (data.year == month_my.year)]"
      ],
      "metadata": {
        "id": "5VHUJiN3zSje"
      },
      "execution_count": 82,
      "outputs": []
    },
    {
      "cell_type": "code",
      "source": [
        "avg_min_disp = []"
      ],
      "metadata": {
        "id": "OlrwGwPGFa48"
      },
      "execution_count": 131,
      "outputs": []
    },
    {
      "cell_type": "markdown",
      "source": [
        "# **1 task**"
      ],
      "metadata": {
        "id": "QCNo9dJa01Zh"
      }
    },
    {
      "cell_type": "code",
      "source": [
        "data_1 = data_my[(data_my.day <= month_my.day+2)]\n",
        "stat = list(data_1.groupby(['date', 'hour'])['time'].count())\n",
        "avg_1 = avg(stat)\n",
        "disp_1 = disp(stat, avg_1)\n",
        "avg_1, disp_1"
      ],
      "metadata": {
        "colab": {
          "base_uri": "https://localhost:8080/"
        },
        "id": "DlC0aEtz07E1",
        "outputId": "76763287-9517-4b7e-cf44-13225edadc8b"
      },
      "execution_count": 133,
      "outputs": [
        {
          "output_type": "execute_result",
          "data": {
            "text/plain": [
              "(96.76388888888889, 3140.569251543211)"
            ]
          },
          "metadata": {},
          "execution_count": 133
        }
      ]
    },
    {
      "cell_type": "code",
      "source": [
        "avg_min_disp.append((avg_1, disp_1))"
      ],
      "metadata": {
        "id": "xj4z2gZdFZvs"
      },
      "execution_count": 134,
      "outputs": []
    },
    {
      "cell_type": "markdown",
      "source": [
        "# **2 task**"
      ],
      "metadata": {
        "id": "r_8c5RG_3VgT"
      }
    },
    {
      "cell_type": "code",
      "source": [
        "stat = list(data_my.groupby(['day'])['time'].count())\n",
        "avg_1 = avg(stat)\n",
        "disp_1 = disp(stat, avg_1)/24\n",
        "avg_1/24, disp_1"
      ],
      "metadata": {
        "colab": {
          "base_uri": "https://localhost:8080/"
        },
        "id": "yZfiew6l3XcD",
        "outputId": "70120a50-33e1-450c-caa7-05ca8b8000a4"
      },
      "execution_count": 135,
      "outputs": [
        {
          "output_type": "execute_result",
          "data": {
            "text/plain": [
              "(132.34274193548387, 17059.22233784253)"
            ]
          },
          "metadata": {},
          "execution_count": 135
        }
      ]
    },
    {
      "cell_type": "code",
      "source": [
        "avg_min_disp.append((avg_1/24, disp_1))"
      ],
      "metadata": {
        "id": "8iXv5OfDFYSW"
      },
      "execution_count": 136,
      "outputs": []
    },
    {
      "cell_type": "markdown",
      "source": [
        "# **3 task**"
      ],
      "metadata": {
        "id": "CWzPnVCa32Tl"
      }
    },
    {
      "cell_type": "code",
      "source": [
        "for weekday_ in range(7):\n",
        "  data_3 = data[(data.month <= month_my.month+1)&(data.month >= month_my.month-1)&(data.year == month_my.year) & (data.weekday == weekday_)]\n",
        "  stat = list(data_3.groupby(['day'])['time'].count())\n",
        "  avg_1 = avg(stat)\n",
        "  disp_1 = disp(stat, avg_1)/24\n",
        "  avg_min_disp.append((avg_1/24, disp_1))\n",
        "  print(avg_1/24, disp_1)"
      ],
      "metadata": {
        "colab": {
          "base_uri": "https://localhost:8080/"
        },
        "id": "9W5Hn2N035BR",
        "outputId": "d3fc481b-17f0-4925-ba15-43aed75a2566"
      },
      "execution_count": 139,
      "outputs": [
        {
          "output_type": "stream",
          "name": "stdout",
          "text": [
            "123.63690476190476 57334.591836734755\n",
            "126.33012820512822 68088.42603550293\n",
            "123.70833333333333 60747.61538461541\n",
            "123.74679487179488 60616.65039447726\n",
            "143.1282051282051 81237.59270216967\n",
            "168.47115384615384 111933.49605522677\n",
            "117.125 48614.19871794875\n"
          ]
        }
      ]
    },
    {
      "cell_type": "markdown",
      "source": [
        "# **4 task**"
      ],
      "metadata": {
        "id": "zdBO6UuN7Oar"
      }
    },
    {
      "cell_type": "code",
      "source": [
        "data_4 = data[(data.month <= month_my.month+1)&(data.month >= month_my.month-1)&(data.year == month_my.year)]\n",
        "stat = list(data_4.groupby(['week'])['time'].count())\n",
        "avg_1 = avg(stat)\n",
        "disp_1 = disp(stat, avg_1)/24/7\n",
        "avg_1/24/7, disp_1"
      ],
      "metadata": {
        "colab": {
          "base_uri": "https://localhost:8080/"
        },
        "id": "KPav3v8J7R-v",
        "outputId": "29661663-865c-448a-d676-a0addaff2909"
      },
      "execution_count": 140,
      "outputs": [
        {
          "output_type": "execute_result",
          "data": {
            "text/plain": [
              "(124.11777210884352, 570907.4372266765)"
            ]
          },
          "metadata": {},
          "execution_count": 140
        }
      ]
    },
    {
      "cell_type": "code",
      "source": [
        "avg_min_disp.append((avg_1/24/7, disp_1))"
      ],
      "metadata": {
        "id": "ZXczo94HFVsD"
      },
      "execution_count": 141,
      "outputs": []
    },
    {
      "cell_type": "markdown",
      "source": [
        "# **5 task**"
      ],
      "metadata": {
        "id": "wqnKMmBn8RKB"
      }
    },
    {
      "cell_type": "code",
      "source": [
        "stat = list(data.groupby(['month','year'])['time'].count())\n",
        "stat\n",
        "avg_1 = avg(stat)\n",
        "disp_1 = disp(stat, avg_1)/24/30\n",
        "avg_1/24/30, disp_1"
      ],
      "metadata": {
        "colab": {
          "base_uri": "https://localhost:8080/"
        },
        "id": "FJw9mCfJ8t5n",
        "outputId": "fe4054fb-cd75-44f9-d6e0-cf1504b3effa"
      },
      "execution_count": 142,
      "outputs": [
        {
          "output_type": "execute_result",
          "data": {
            "text/plain": [
              "(131.00372807017544, 3041984.218428747)"
            ]
          },
          "metadata": {},
          "execution_count": 142
        }
      ]
    },
    {
      "cell_type": "code",
      "source": [
        "avg_min_disp.append((avg_1/24/30, disp_1))"
      ],
      "metadata": {
        "id": "cu59SSdrFR6d"
      },
      "execution_count": 143,
      "outputs": []
    },
    {
      "cell_type": "markdown",
      "source": [
        "# **6 task**"
      ],
      "metadata": {
        "id": "yletRIkYBK9b"
      }
    },
    {
      "cell_type": "code",
      "source": [
        "import operator\n",
        "import math\n",
        "rent = 2400\n",
        "l = min(avg_min_disp, key = operator.itemgetter(1))[0] / 3600\n",
        "tau_ = 2.3\n",
        "mu = 1 / tau_\n",
        "tau = 30\n",
        "ro = l / mu\n",
        "def task_6(n, w=False):\n",
        "    a = n / ro\n",
        "    b = l * tau\n",
        "    c = math.exp(b * (1 - a))\n",
        "    B = (c - 1) / (1 - a)\n",
        "    p0 = 1/(sum([(ro ** k) / math.factorial(k) for k in range(n)]) + ((ro ** n) / math.factorial(n)) * B)\n",
        "    p_otk = ((ro ** n )/ math.factorial(n)) * c * p0\n",
        "    w0 = tau * (ro ** n / math.factorial(n)) * p0 * (1 + b / 2)\n",
        "    return (p_otk, w0) if w else p_otk"
      ],
      "metadata": {
        "id": "jpQEmrEZBM5K"
      },
      "execution_count": 153,
      "outputs": []
    },
    {
      "cell_type": "code",
      "source": [
        "#вероятность отказа и средн время в очереди и штраф\n",
        "task_6(8, w=True)"
      ],
      "metadata": {
        "colab": {
          "base_uri": "https://localhost:8080/"
        },
        "id": "aJcbBYmCFA9J",
        "outputId": "923c81c2-642a-461f-b827-daed730744ee"
      },
      "execution_count": 158,
      "outputs": [
        {
          "output_type": "execute_result",
          "data": {
            "text/plain": [
              "(5.361114878986349e-60, 2.0939944152855666e-13)"
            ]
          },
          "metadata": {},
          "execution_count": 158
        }
      ]
    },
    {
      "cell_type": "code",
      "source": [
        "#Определите значение х, при котором арендовать более 20 ядер не выгодно.\n",
        "n1 = 20\n",
        "n2 = 21\n",
        "p_otk20 = task_6(n1)\n",
        "p_otk21 = task_6(n2)\n",
        "x = rent / (avg_1 * (p_otk20 - p_otk21))\n",
        "x = x - 1\n",
        "print(x)"
      ],
      "metadata": {
        "colab": {
          "base_uri": "https://localhost:8080/"
        },
        "id": "Mx6LvyfGFDVA",
        "outputId": "05bc88a9-8e24-444f-f67b-cc6b214f528f"
      },
      "execution_count": 161,
      "outputs": [
        {
          "output_type": "stream",
          "name": "stdout",
          "text": [
            "8.705783910117086e+153\n"
          ]
        }
      ]
    },
    {
      "cell_type": "code",
      "source": [
        "#2Увеличьте в три раза значение x, полученное в предыдущем пункте, и рассчитайте для него оптимальное количество используемых ядер. \n",
        "x *= 3\n",
        "prev = math.inf\n",
        "for n in range(100):\n",
        "    p_otk = task_6(n)\n",
        "    if n * rent + avg_1 * p_otk * x > prev:\n",
        "        print(prev_n, prev)\n",
        "        break\n",
        "    prev,prev_n = n * rent + avg_1 * p_otk * x,n"
      ],
      "metadata": {
        "colab": {
          "base_uri": "https://localhost:8080/"
        },
        "id": "CHRhX6IWFJ4m",
        "outputId": "3e83e859-9607-4392-bdb0-3dfa7505db5e"
      },
      "execution_count": 174,
      "outputs": [
        {
          "output_type": "stream",
          "name": "stdout",
          "text": [
            "21 50402.708655466544\n"
          ]
        }
      ]
    }
  ]
}